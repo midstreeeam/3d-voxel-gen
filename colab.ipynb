{
  "cells": [
    {
      "cell_type": "markdown",
      "metadata": {
        "id": "U-f5e0hk1xz3"
      },
      "source": [
        "# Prelude\n",
        "\n",
        "The notebook contains utility functions from Mordvinstev et al.'s [colab notebook](https://colab.research.google.com/github/google-research/self-organising-systems/blob/master/notebooks/growing_ca.ipynb). \n"
      ]
    },
    {
      "cell_type": "code",
      "execution_count": null,
      "metadata": {
        "id": "i5wi_r4gyzFr",
        "vscode": {
          "languageId": "python"
        }
      },
      "outputs": [],
      "source": [
        "import os\n",
        "import io\n",
        "import PIL.Image, PIL.ImageDraw\n",
        "import base64\n",
        "import zipfile\n",
        "import json\n",
        "import requests\n",
        "import numpy as np\n",
        "import matplotlib.pylab as pl\n",
        "import glob\n",
        "\n",
        "import tensorflow as tf\n",
        "from IPython.display import Image, HTML, clear_output\n",
        "import tqdm\n",
        "import os"
      ]
    },
    {
      "cell_type": "code",
      "execution_count": null,
      "metadata": {
        "id": "zR6I1JONmWBb",
        "vscode": {
          "languageId": "python"
        }
      },
      "outputs": [],
      "source": [
        "CHANNEL_N = 16        # Number of CA state channels\n",
        "TARGET_SIZE = 32\n",
        "BATCH_SIZE = 2\n",
        "POOL_SIZE = 512\n",
        "CELL_FIRE_RATE = 0.75"
      ]
    },
    {
      "cell_type": "code",
      "execution_count": null,
      "metadata": {
        "colab": {
          "base_uri": "https://localhost:8080/"
        },
        "id": "lCbPFbI_zosW",
        "outputId": "e4b6acda-b0e8-4e96-e037-4e3594033907",
        "vscode": {
          "languageId": "python"
        }
      },
      "outputs": [],
      "source": [
        "from tensorflow.keras.layers import Conv3D\n",
        "\n",
        "def to_rgba(x):\n",
        "    return x[..., :4]\n",
        "\n",
        "def to_alpha(x):\n",
        "    return tf.clip_by_value(x[..., 3:4], 0.0, 1.0)\n",
        "\n",
        "def to_rgb(x):\n",
        "    # assume rgb premultiplied by alpha\n",
        "    rgb, a = x[..., :3], to_alpha(x)\n",
        "    return 1.0-a+rgb\n",
        "\n",
        "def get_living_mask(x):\n",
        "    alpha = x[:, :, :, :, 3:4]\n",
        "    return tf.nn.max_pool3d(alpha, 3, [1, 1, 1, 1, 1], 'SAME') > 0.1\n",
        "\n",
        "def make_seed(size, n=1):\n",
        "    x = np.zeros([n, size, size, CHANNEL_N], np.float32)\n",
        "    x[:, size//2, size//2, size//2, 3:] = 1.0\n",
        "    return x\n",
        "\n",
        "class CAModel3D(tf.keras.Model):\n",
        "  def __init__(self, channel_n=CHANNEL_N, fire_rate=CELL_FIRE_RATE):\n",
        "    super().__init__()\n",
        "    self.channel_n = channel_n\n",
        "    self.fire_rate = fire_rate\n",
        "\n",
        "    perc = Conv3D(64, 3, activation=None, groups=self.channel_n, \n",
        "                 padding=\"SAME\", use_bias=False, trainable=False)\n",
        "    \n",
        "    self.dmodel = tf.keras.Sequential([\n",
        "          perc,\n",
        "          Conv3D(160, 1, activation=tf.nn.relu),\n",
        "          Conv3D(self.channel_n, 1, activation=None,\n",
        "              kernel_initializer=tf.zeros_initializer),\n",
        "    ])\n",
        "    \n",
        "    self.build((None, 3, 3, 3, channel_n))\n",
        "        \n",
        "    identify = np.zeros((3, 3, 3))\n",
        "    identify[1, 1, 1] = 1\n",
        "    # 3D Sobel filters\n",
        "    dx = np.array([1, 2, 1])[None, None, :] * np.outer([1, 2, 1], [-1, 0, 1])[:, :, None] / 32\n",
        "    dy = np.array([1, 2, 1])[None, None, :] * np.outer([1, 2, 1], [-1, 0, 1]).T[:, :, None] / 32\n",
        "    dz = (np.array([1, 2, 1])[None, None, :] * np.outer([1, 2, 1], [-1, 0, 1]).T[:, :, None]).T / 32\n",
        "\n",
        "    kernel = np.stack([identify, dx, dy, dz], -1)[:, :, :, None, :]\n",
        "    kernel = np.repeat([kernel], repeats=CHANNEL_N, axis=-1)\n",
        "    perc.set_weights(kernel)\n",
        "    \n",
        "    self.dmodel.layers[0].trainable = False\n",
        "\n",
        "  @tf.function\n",
        "  def call(self, x, fire_rate=None, angle=0.0, step_size=1.0):\n",
        "    pre_life_mask = get_living_mask(x)\n",
        "    dx = self.dmodel(x)*step_size\n",
        "    if fire_rate is None:\n",
        "      fire_rate = self.fire_rate\n",
        "    update_mask = tf.random.uniform(tf.shape(x[:, :, :, :1])) <= fire_rate\n",
        "    x += dx * tf.cast(update_mask, tf.float32)\n",
        "\n",
        "    post_life_mask = get_living_mask(x)\n",
        "    life_mask = pre_life_mask & post_life_mask\n",
        "    return x * tf.cast(life_mask, tf.float32)\n",
        "\n",
        "\n",
        "CAModel3D().dmodel.summary()"
      ]
    },
    {
      "cell_type": "markdown",
      "metadata": {
        "id": "xDX5HL7VLd0z"
      },
      "source": [
        "# Training"
      ]
    },
    {
      "cell_type": "code",
      "execution_count": null,
      "metadata": {
        "id": "IeWf6HeTe8kM",
        "vscode": {
          "languageId": "python"
        }
      },
      "outputs": [],
      "source": [
        "from google.protobuf.json_format import MessageToDict\n",
        "from tensorflow.python.framework import convert_to_constants\n",
        "\n",
        "class SamplePool:\n",
        "  def __init__(self, *, _parent=None, _parent_idx=None, **slots):\n",
        "    self._parent = _parent\n",
        "    self._parent_idx = _parent_idx\n",
        "    self._slot_names = slots.keys()\n",
        "    self._size = None\n",
        "    for k, v in slots.items():\n",
        "      if self._size is None:\n",
        "        self._size = len(v)\n",
        "      assert self._size == len(v)\n",
        "      setattr(self, k, np.array(v))\n",
        "\n",
        "  def sample(self, n):\n",
        "    idx = np.random.choice(self._size, n, False)\n",
        "    batch = {k: getattr(self, k)[idx] for k in self._slot_names}\n",
        "    batch = SamplePool(**batch, _parent=self, _parent_idx=idx)\n",
        "    return batch\n",
        "\n",
        "  def commit(self):\n",
        "    for k in self._slot_names:\n",
        "      getattr(self._parent, k).setflags(write=1)\n",
        "      getattr(self._parent, k)[self._parent_idx] = getattr(self, k)\n",
        "\n",
        "@tf.function\n",
        "def make_circle_masks(n, h, w, d):\n",
        "  x = tf.linspace(-1.0, 1.0, w)[None, :, None, None]\n",
        "  y = tf.linspace(-1.0, 1.0, h)[None, None, :, None]\n",
        "  z = tf.linspace(-1.0, 1.0, d)[None, None, None, :]\n",
        "  center = tf.random.uniform([3, n, 1, 1, 1], -0.5, 0.5)\n",
        "  r = tf.random.uniform([n, 1, 1, 1], 0.1, 0.3)\n",
        "  x, y, z = (x - center[0])/r, (y - center[1])/r, (z - center[2])/r\n",
        "  mask = tf.cast(x*x+y*y+z*z < 1.0, tf.float32)\n",
        "  return mask\n",
        "\n",
        "def export_model(ca, base_fn):\n",
        "  ca.save_weights(base_fn)\n",
        "\n",
        "  cf = ca.call.get_concrete_function(\n",
        "      x=tf.TensorSpec([None, None, None, None, CHANNEL_N]),\n",
        "      fire_rate=tf.constant(0.5),\n",
        "      angle=tf.constant(0.0),\n",
        "      step_size=tf.constant(1.0))\n",
        "  cf = convert_to_constants.convert_variables_to_constants_v2(cf)\n",
        "  graph_def = cf.graph.as_graph_def()\n",
        "  graph_json = MessageToDict(graph_def)\n",
        "  graph_json['versions'] = dict(producer='1.14', minConsumer='1.14')\n",
        "  model_json = {\n",
        "      'format': 'graph-model',\n",
        "      'modelTopology': graph_json,\n",
        "      'weightsManifest': [],\n",
        "  }\n",
        "  with open(base_fn+'.json', 'w') as f:\n",
        "    json.dump(model_json, f)\n",
        "\n",
        "def plot_loss(loss_log):\n",
        "  pl.figure(figsize=(10, 4))\n",
        "  pl.title('Loss history (log10)')\n",
        "  pl.plot(np.log10(loss_log), '.', alpha=0.1)\n",
        "  pl.show()\n"
      ]
    },
    {
      "cell_type": "markdown",
      "metadata": {
        "id": "Y0q72yWIP1sQ"
      },
      "source": [
        "# Data loading \n",
        "\n",
        "You will need to load 3D targets shapes to train the model. "
      ]
    },
    {
      "cell_type": "code",
      "execution_count": null,
      "metadata": {
        "colab": {
          "base_uri": "https://localhost:8080/"
        },
        "id": "j5ZgJcCDWbzM",
        "outputId": "6fe9290e-c079-4459-889b-b31c57c5af44",
        "vscode": {
          "languageId": "python"
        }
      },
      "outputs": [],
      "source": [
        "from google.colab import drive\n",
        "drive.mount('/content/drive')\n",
        "\n",
        "!mkdir -p models\n",
        "!cp /content/drive/MyDrive/training_data/models/* models/"
      ]
    },
    {
      "cell_type": "code",
      "execution_count": null,
      "metadata": {
        "colab": {
          "base_uri": "https://localhost:8080/",
          "height": 248
        },
        "id": "CCyMU-zX_CQY",
        "outputId": "46bbce60-036b-4a21-e3ce-7caacee46294",
        "vscode": {
          "languageId": "python"
        }
      },
      "outputs": [],
      "source": [
        "import pickle\n",
        "import json\n",
        "import matplotlib.pyplot as plt\n",
        "\n",
        "def plot_3d(arr):\n",
        "    fig = plt.figure()\n",
        "    ax = fig.add_subplot(projection='3d')\n",
        "    u = np.moveaxis(arr, (0, 1), (1, 2))\n",
        "    m = ax.voxels((u[:, :, :, 3] > 0.1), \n",
        "                  facecolors=np.clip(u[:, :, :, :4], 0, 1))\n",
        "    clear_output()\n",
        "    plt.show()\n",
        "\n",
        "p = TARGET_SIZE\n",
        "# owl = pickle.load(open(\"models/owl.pkl\", \"rb\"))\n",
        "# rabbit = pickle.load(open(\"models/rabbit.pkl\", \"rb\"))\n",
        "# elephant = pickle.load(open(\"models/elephant.pkl\", \"rb\"))\n",
        "# duck = pickle.load(open(\"models/duck.pkl\", \"rb\"))\n",
        "# targets = [np.array(x) for x in [owl, rabbit, elephant, duck]]\n",
        "with open('ditest.json','r') as f:\n",
        "    cat_limbs = json.loads(f.read())\n",
        "ditest = np.array(cat_limbs)\n",
        "targets = [ditest,ditest]\n",
        "plot_3d(targets[0])\n",
        "\n",
        "def pad_tgt(tgt):\n",
        "    px = (p - tgt.shape[0]) // 2\n",
        "    py = (p - tgt.shape[1]) // 2\n",
        "    pz = (p - tgt.shape[2]) // 2\n",
        "    return tf.pad(tgt, [\n",
        "        (px, px + (p - tgt.shape[0] - 2 * px)), \n",
        "        (py, py + (p - tgt.shape[1] - 2 * py)), \n",
        "        (pz, pz + (p - tgt.shape[2] - 2 * pz)), (0, 0)])"
      ]
    },
    {
      "cell_type": "code",
      "execution_count": null,
      "metadata": {
        "id": "M_62TRf4VpgR",
        "vscode": {
          "languageId": "python"
        }
      },
      "outputs": [],
      "source": [
        "\n",
        "\n",
        "def batch_3d_viz(x, x0):\n",
        "    fig = plt.figure(figsize=plt.figaspect(0.35)*1.5)\n",
        "    ax = [fig.add_subplot(2, BATCH_SIZE, i, projection='3d') \n",
        "          for i in range(1, 2 * BATCH_SIZE + 1)]\n",
        "    for i in range(BATCH_SIZE):\n",
        "        u = np.moveaxis(x0[i], (0, 1), (1, 2))\n",
        "        ax[i].set_axis_off()\n",
        "        ax[i].voxels((u[::-1, :, :, 3] > 0.1), \n",
        "                     facecolors=np.clip(u[::-1, :, :, :4], 0, 1))\n",
        "    for i in range(BATCH_SIZE):\n",
        "        u = np.moveaxis(x[i].numpy(), (0, 1), (1, 2))\n",
        "        ax[BATCH_SIZE + i].set_axis_off()\n",
        "        ax[BATCH_SIZE + i].voxels((u[::-1, :, :, 3] > 0.1), \n",
        "                                  facecolors=np.clip(u[::-1, :, :, :4], 0, 1))\n",
        "    plt.show()\n",
        "    plot_3d(np.array(x[0,:,:,:,:4]))\n"
      ]
    },
    {
      "cell_type": "code",
      "execution_count": null,
      "metadata": {
        "colab": {
          "base_uri": "https://localhost:8080/",
          "height": 248
        },
        "id": "ak5rBmbxmHV7",
        "outputId": "d181de50-81c2-4904-d803-38e5c6143490",
        "vscode": {
          "languageId": "python"
        }
      },
      "outputs": [],
      "source": [
        "pad_targets = [tf.cast(pad_tgt(target_img), tf.float32) \n",
        "for target_img in targets]\n",
        "\n",
        "plot_3d(np.array(pad_targets[0]))\n",
        "h, w, d = pad_targets[0].shape[:3]\n",
        "seed = np.zeros([len(targets), h, w, d, CHANNEL_N], np.float32)\n",
        "\n",
        "seed[0, h//2, w//2 , d//2, 3:] = 1.0\n",
        "seed[1, h//2+7, w//2+7 , d//2+7, 3:] = 1.0\n",
        "\n",
        "\n",
        "plot_3d(seed[0,:,:,:,:4])\n",
        "\n",
        "def loss_f(x, target):\n",
        "    return tf.reduce_mean(tf.square(to_rgba(x) - target), \n",
        "                          [-2, -3, -4, -1])\n",
        "\n",
        "ca = CAModel3D()\n",
        "loss_log = []\n",
        "\n",
        "lr = 1e-3\n",
        "lr_sched = tf.keras.optimizers.schedules.PiecewiseConstantDecay(\n",
        "    [2000], [lr, lr*0.1])\n",
        "trainer = tf.keras.optimizers.Adam(lr_sched)\n",
        "\n",
        "loss0 = loss_f(seed[0], pad_targets[0]).numpy()\n",
        "\n",
        "inp = tf.cast(np.repeat(seed, POOL_SIZE//len(targets), 0), tf.float32)\n",
        "tgt = tf.repeat(pad_targets, POOL_SIZE//len(targets), 0)\n",
        "\n",
        "pool = SamplePool(x=inp, y=tgt)\n",
        "\n",
        "!mkdir -p train_log && rm -f train_log/*"
      ]
    },
    {
      "cell_type": "markdown",
      "metadata": {
        "id": "stmr82kObBed"
      },
      "source": [
        "# Training"
      ]
    },
    {
      "cell_type": "code",
      "execution_count": null,
      "metadata": {
        "colab": {
          "base_uri": "https://localhost:8080/",
          "height": 266
        },
        "id": "KCSaMnXpshq_",
        "outputId": "93570a4f-6c42-4ad0-bda5-eb7fb810e171",
        "vscode": {
          "languageId": "python"
        }
      },
      "outputs": [],
      "source": [
        "os.environ['TF_CPP_MIN_LOG_LEVEL'] = '2'\n",
        "@tf.function\n",
        "def train_step(x, y):\n",
        "    iter_n = tf.random.uniform([], 64, 96, tf.int32)\n",
        "    with tf.GradientTape() as g:\n",
        "        for i in tf.range(iter_n):\n",
        "            x = ca(x)\n",
        "        loss = tf.reduce_mean(loss_f(x, y))\n",
        "    grads = g.gradient(loss, ca.weights)\n",
        "    grads = [g/(tf.norm(g)+1e-8) for g in grads]\n",
        "    # Hack to not train the first layer (Sobel filters)\n",
        "    # because apparently setting .trainable = False isn't enough\n",
        "    trainer.apply_gradients(zip(grads[1:], ca.weights[1:])) \n",
        "    return x, y, loss\n",
        "\n",
        "for i in range(1500):\n",
        "    batch = pool.sample(BATCH_SIZE)\n",
        "    x0 = batch.x\n",
        "    y0 = batch.y\n",
        "    # print(x0.shape) == (4, 32, 32, 32, 16)\n",
        "    # print(y0.shape) == (4, 32, 32, 32, 4)\n",
        "\n",
        "    loss_rank = loss_f(x0, y0).numpy().argsort()[::-1]\n",
        "    \n",
        "    # print(loss_rank.shape) == (4,) might be the loss of 4 targets\n",
        "    \n",
        "    \n",
        "    x0 = x0[loss_rank]\n",
        "    y0 = y0[loss_rank]\n",
        "    # print(x0.shape) == (4, 32, 32, 32, 16)\n",
        "    # print(y0.shape) == (4, 32, 32, 32, 4)\n",
        "\n",
        "    simple = np.random.choice(range(len(targets)), size=2) # two random number in targets\n",
        "\n",
        "    # print(x0[:2].shape) == (2, 32, 32, 32, 16)\n",
        "    # print(seed[simple].shape) == (2, 32, 32, 32, 16)\n",
        "    x0[:2] = seed[simple]\n",
        "    \n",
        "    # remained to be figure out\n",
        "    for n, u in enumerate(simple):  \n",
        "        y0[n] = pad_targets[u]\n",
        "        \n",
        "        \n",
        "    # print(x0.shape) == (4, 32, 32, 32, 16)\n",
        "    # print(y0.shape) == (4, 32, 32, 32, 4)\n",
        "\n",
        "    \n",
        "    x, y, loss = train_step(x0, y0)\n",
        "    \n",
        "    # print(x.shape) == (4, 32, 32, 32, 16)\n",
        "    # print(y.shape) == (4, 32, 32, 32, 4)\n",
        "\n",
        "    step_i = len(loss_log)\n",
        "    loss_log.append(loss.numpy())\n",
        "\n",
        "    if step_i%100 == 0:\n",
        "      clear_output()\n",
        "      plot_loss(loss_log)\n",
        "      export_model(ca, 'train_log/%04d'%step_i)\n",
        "\n",
        "    if step_i%200 == 0:\n",
        "      clear_output()\n",
        "      batch_3d_viz(x, x0)\n",
        "      pass\n",
        "\n",
        "    print('\\r step: %d, log10(loss): %.3f'%(len(loss_log), \n",
        "                                            np.log10(loss)), end='')\n",
        "    \n",
        "ca.save_weights('./wei/ditest.h5')"
      ]
    },
    {
      "cell_type": "markdown",
      "metadata": {},
      "source": [
        "### Generation testing\n",
        "codes below are used to generate 3d-voxel models by using trained models that stored in h5 files.\n",
        "You can train your model by using the code above and test it by using the code below"
      ]
    },
    {
      "cell_type": "code",
      "execution_count": null,
      "metadata": {
        "colab": {
          "base_uri": "https://localhost:8080/",
          "height": 438
        },
        "id": "rSkOXOo3l4i5",
        "outputId": "8f2fba5a-cc86-4271-a517-cfdfcd008262",
        "vscode": {
          "languageId": "python"
        }
      },
      "outputs": [],
      "source": [
        "new_model = CAModel3D()\n",
        "new_model.load_weights('./test.h5')\n",
        "import matplotlib.pyplot as plt\n",
        "\n",
        "def plot_3d(arr,i):\n",
        "    fig = plt.figure()\n",
        "    ax = fig.add_subplot(projection='3d')\n",
        "    u = np.moveaxis(seed[0], (0, 1), (1, 2))\n",
        "    m = ax.voxels((u[:, :, :, 3] > 0.1), \n",
        "                  facecolors=np.clip(u[:, :, :, :4], 0, 1))\n",
        "    clear_output()\n",
        "    plt.show()\n",
        "\n",
        "s=32\n",
        "h=s\n",
        "w=s\n",
        "d=s\n",
        "seed = np.zeros([4, s, s, s, 16], dtype=np.float)\n",
        "seed[0, h//2, w//2 , d//2, 3:] = 1.0\n",
        "\n",
        "for i in range(200):\n",
        "  print(i)\n",
        "  seed = new_model(seed)\n",
        "  plot_3d(seed[0],i)\n",
        "\n",
        "with open('output.json','w') as f:\n",
        "  data = json.dumps(seed[0].numpy().tolist())\n",
        "  f.write(data)"
      ]
    },
    {
      "cell_type": "code",
      "execution_count": null,
      "metadata": {
        "colab": {
          "base_uri": "https://localhost:8080/",
          "height": 248
        },
        "id": "eBTo3KQz51x6",
        "outputId": "18188f26-cd04-45d6-c376-127aa588adff",
        "vscode": {
          "languageId": "python"
        }
      },
      "outputs": [],
      "source": [
        "with open('output.json','r') as f:\n",
        "    cat_limbs = json.loads(f.read())\n",
        "ditest = np.array(cat_limbs)\n",
        "targets = [ditest,ditest]\n",
        "plot_3d(targets[0],0)"
      ]
    },
    {
      "cell_type": "code",
      "execution_count": null,
      "metadata": {
        "id": "WIgphyWJI2Rg",
        "vscode": {
          "languageId": "python"
        }
      },
      "outputs": [],
      "source": [
        "# pytorch version, not used any more\n",
        "import torch\n",
        "import torch.nn as nn\n",
        "\n",
        "class NCAModel3D(nn.Module):\n",
        "    def __init__(self, channel_n=CHANNEL_N, fire_rate=CELL_FIRE_RATE):\n",
        "        super().__init__()\n",
        "        self.channel_n = channel_n\n",
        "        self.fire_rate = fire_rate\n",
        "\n",
        "        self.pool3d = nn.MaxPool3d((3, 3, 3), stride=(1, 1, 1),\n",
        "                                   padding=(1, 1, 1))\n",
        "\n",
        "        perc = nn.Conv3d(self.channel_n, 64, (3, 3, 3), groups=16, bias=False,\n",
        "                         padding_mode=\"circular\", padding=(1, 1, 1))\n",
        "        identify = torch.zeros(3, 3, 3)\n",
        "        identify[1, 1, 1] = 1\n",
        "\n",
        "        # 3D Sobel filters\n",
        "        dx = torch.Tensor(np.array([1, 2, 1])[None, None, :] *\n",
        "                          np.outer([1, 2, 1], [-1, 0, 1])[:, :, None])\n",
        "        dy = torch.Tensor(np.array([1, 2, 1])[None, None, :] *\n",
        "                          np.outer([1, 2, 1], [-1, 0, 1]).T[:, :, None])\n",
        "        dz = torch.Tensor((np.array([1, 2, 1])[None, None, :] *\n",
        "                           np.outer([1, 2, 1], [-1, 0, 1]).T[:, :, None]).T)\n",
        "\n",
        "        kernel = torch.stack([identify, dx, dy, dz], -1)[:, :, :, :, None]\n",
        "        kernel = kernel.repeat(1, 1, 1, CHANNEL_N, 1)\n",
        "        kernel = torch.moveaxis(\n",
        "            kernel.reshape(3, 3, 3, -1), -1, 0).reshape(-1, 1, 3, 3, 3)\n",
        "        perc.weight = nn.Parameter(kernel)\n",
        "\n",
        "        self.dmodel = nn.Sequential(\n",
        "            perc,\n",
        "            nn.Conv3d(64, 128, (1, 1, 1)),\n",
        "            nn.ReLU(),\n",
        "            nn.Conv3d(128, self.channel_n, (1, 1, 1)),\n",
        "        )\n",
        "\n",
        "    def forward(self, x, fire_rate=None, step_size=1.0):\n",
        "        pre_life_mask = self.get_living_mask3d(x)\n",
        "        dx = self.dmodel(x) * step_size\n",
        "        if fire_rate is None:\n",
        "            fire_rate = self.fire_rate\n",
        "        update_mask = torch.rand(size=x[:, :1, :, :, :].shape) <= fire_rate\n",
        "        x += dx * update_mask.float()\n",
        "\n",
        "        post_life_mask = self.get_living_mask3d(x)\n",
        "        life_mask = pre_life_mask & post_life_mask\n",
        "        return x * life_mask.float()\n",
        "\n",
        "    def get_living_mask3d(self, x):\n",
        "        alpha = x[:, 3:4, :, :, :]\n",
        "        return self.pool3d(alpha) > 0.1"
      ]
    },
    {
      "cell_type": "markdown",
      "metadata": {},
      "source": [
        "##### generate gif\n",
        "Here provide a simple piece of code that can generate the gif of how the model is generated from a singel dot."
      ]
    },
    {
      "cell_type": "code",
      "execution_count": null,
      "metadata": {
        "id": "BgR8LsLUHZzp",
        "vscode": {
          "languageId": "python"
        }
      },
      "outputs": [],
      "source": [
        "import imageio\n",
        "from pathlib import Path\n",
        "\n",
        "\n",
        "def imgs2gif(imgPaths, saveName, duration=None, loop=0, fps=None):\n",
        "    if fps:\n",
        "        duration = 1 / fps\n",
        "    images = [imageio.imread(str(img_path)) for img_path in imgPaths]\n",
        "    imageio.mimsave(saveName, images, \"gif\", duration=duration, loop=loop)\n",
        "\n",
        "\n",
        "# pathlist = Path(r\"G:\\img\").glob(\"*.jpg\")\n",
        "\n",
        "p_lis = []\n",
        "for i in range(130):\n",
        "  p_lis.append('fig/'+str(i)+'.png')\n",
        "\n",
        "# for n, p in enumerate(pathlist):\n",
        "#     if n % 5 == 0:\n",
        "#         p_lis.append(p)\n",
        "\n",
        "imgs2gif(p_lis, \"test.gif\", 0)"
      ]
    }
  ],
  "metadata": {
    "accelerator": "GPU",
    "colab": {
      "collapsed_sections": [],
      "machine_shape": "hm",
      "name": "Copy of Minecraft Neural Cellular Automata 3D",
      "provenance": []
    },
    "kernelspec": {
      "display_name": "Python 3",
      "name": "python3"
    }
  },
  "nbformat": 4,
  "nbformat_minor": 0
}
